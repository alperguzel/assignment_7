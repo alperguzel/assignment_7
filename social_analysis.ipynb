{
 "cells": [
  {
   "cell_type": "code",
   "execution_count": 23,
   "metadata": {},
   "outputs": [],
   "source": [
    "import json\n",
    "import tweepy\n",
    "import pandas as pd\n",
    "import numpy as np\n",
    "from pprint import pprint\n",
    "import datetime\n",
    "import matplotlib.pyplot as plt\n",
    "from matplotlib import style\n",
    "style.use('ggplot')\n",
    "import seaborn\n",
    "from tweeter_config import consumer_key, consumer_secret, access_token, access_token_secret\n",
    "\n",
    "from vaderSentiment.vaderSentiment import SentimentIntensityAnalyzer\n",
    "analyzer = SentimentIntensityAnalyzer()"
   ]
  },
  {
   "cell_type": "code",
   "execution_count": 24,
   "metadata": {},
   "outputs": [],
   "source": [
    "auth = tweepy.OAuthHandler(consumer_key, consumer_secret)\n",
    "auth.set_access_token(access_token, access_token_secret)\n",
    "api = tweepy.API(auth, parser=tweepy.parsers.JSONParser())"
   ]
  },
  {
   "cell_type": "code",
   "execution_count": 25,
   "metadata": {},
   "outputs": [],
   "source": [
    "# our target users are BBC (BBCWorld), CBS (CBS),CNN (CNN), Fox (FoxNews), New York Times (nytimes)\n",
    "target_users = [\"BBCWorld\", \"CBS\", \"CNN\", \"FoxNews\", \"nytimes\"]\n",
    "\n",
    "total_analys = []\n",
    "\n",
    "total_scores = []\n",
    "\n",
    "for user in target_users:\n",
    "    counter = 1\n",
    "    \n",
    "    compound_list = []\n",
    "    positive_list = []\n",
    "    negative_list = []\n",
    "    neutral_list = []\n",
    "    \n",
    "# i need 100 tweets, every page inclueds just 20 tweets. So i need loop through for 5 pages.\n",
    "    for x in range(1, 6):\n",
    "        public_tweets = api.user_timeline(user, page=x)\n",
    "        \n",
    "        for tweet in public_tweets:\n",
    "            \n",
    "            results = analyzer.polarity_scores(tweet[\"text\"])\n",
    "            compound = results[\"compound\"]\n",
    "            pos = results[\"pos\"]\n",
    "            neu = results[\"neu\"]\n",
    "            neg = results[\"neg\"]\n",
    "#            now i need to append those info\n",
    "            compound_list.append(compound)\n",
    "            positive_list.append(pos)\n",
    "            negative_list.append(neg)\n",
    "            neutral_list.append(neu)\n",
    "            \n",
    "#         i need to creat a dict for every user with their results.\n",
    "        \n",
    "        user_results = {\n",
    "        \"Username\": user,\n",
    "        \"Average Compound Score\": np.mean(compound_list),\n",
    "        \"Average Postive Score\": np.mean(positive_list),\n",
    "        \"Average Neutral Score\": np.mean(neutral_list),\n",
    "        \"Average Negative Score\": np.mean(negative_list)\n",
    "    }\n",
    "        user_scores = {\n",
    "            \"Username\" : user,\n",
    "            \"Compound Scores\" : compound_list,\n",
    "            \"Postive Scores\" : positive_list,\n",
    "            \"Neutral Scores\" : neutral_list,\n",
    "            \"Negative Scores\" : negative_list\n",
    "        }\n",
    "        \n",
    "        counter += 1\n",
    "#         i add that dicts to my total_analys\n",
    "        \n",
    "    total_analys.append(user_results)\n",
    "    \n",
    "    total_scores.append(user_scores)\n",
    "        \n",
    "    analys_df_for_chart = pd.DataFrame(total_analys).round(3)\n",
    "    \n",
    "    analys_df = pd.DataFrame(total_analys).set_index(\"Username\").round(3)\n",
    "    \n",
    "    scores_df = pd.DataFrame(total_scores).set_index(\"Username\")\n",
    "    \n",
    "        \n",
    "        \n",
    "\n",
    "\n",
    "\n",
    "\n",
    "\n",
    "        \n",
    "\n",
    "\n",
    "    "
   ]
  },
  {
   "cell_type": "code",
   "execution_count": 26,
   "metadata": {},
   "outputs": [
    {
     "data": {
      "text/html": [
       "<div>\n",
       "<style scoped>\n",
       "    .dataframe tbody tr th:only-of-type {\n",
       "        vertical-align: middle;\n",
       "    }\n",
       "\n",
       "    .dataframe tbody tr th {\n",
       "        vertical-align: top;\n",
       "    }\n",
       "\n",
       "    .dataframe thead th {\n",
       "        text-align: right;\n",
       "    }\n",
       "</style>\n",
       "<table border=\"1\" class=\"dataframe\">\n",
       "  <thead>\n",
       "    <tr style=\"text-align: right;\">\n",
       "      <th></th>\n",
       "      <th>Average Compound Score</th>\n",
       "      <th>Average Negative Score</th>\n",
       "      <th>Average Neutral Score</th>\n",
       "      <th>Average Postive Score</th>\n",
       "    </tr>\n",
       "    <tr>\n",
       "      <th>Username</th>\n",
       "      <th></th>\n",
       "      <th></th>\n",
       "      <th></th>\n",
       "      <th></th>\n",
       "    </tr>\n",
       "  </thead>\n",
       "  <tbody>\n",
       "    <tr>\n",
       "      <th>BBCWorld</th>\n",
       "      <td>-0.055</td>\n",
       "      <td>0.120</td>\n",
       "      <td>0.811</td>\n",
       "      <td>0.070</td>\n",
       "    </tr>\n",
       "    <tr>\n",
       "      <th>CBS</th>\n",
       "      <td>0.339</td>\n",
       "      <td>0.015</td>\n",
       "      <td>0.797</td>\n",
       "      <td>0.188</td>\n",
       "    </tr>\n",
       "    <tr>\n",
       "      <th>CNN</th>\n",
       "      <td>-0.018</td>\n",
       "      <td>0.076</td>\n",
       "      <td>0.857</td>\n",
       "      <td>0.067</td>\n",
       "    </tr>\n",
       "    <tr>\n",
       "      <th>FoxNews</th>\n",
       "      <td>-0.077</td>\n",
       "      <td>0.111</td>\n",
       "      <td>0.815</td>\n",
       "      <td>0.073</td>\n",
       "    </tr>\n",
       "    <tr>\n",
       "      <th>nytimes</th>\n",
       "      <td>-0.020</td>\n",
       "      <td>0.072</td>\n",
       "      <td>0.863</td>\n",
       "      <td>0.065</td>\n",
       "    </tr>\n",
       "  </tbody>\n",
       "</table>\n",
       "</div>"
      ],
      "text/plain": [
       "          Average Compound Score  Average Negative Score  \\\n",
       "Username                                                   \n",
       "BBCWorld                  -0.055                   0.120   \n",
       "CBS                        0.339                   0.015   \n",
       "CNN                       -0.018                   0.076   \n",
       "FoxNews                   -0.077                   0.111   \n",
       "nytimes                   -0.020                   0.072   \n",
       "\n",
       "          Average Neutral Score  Average Postive Score  \n",
       "Username                                                \n",
       "BBCWorld                  0.811                  0.070  \n",
       "CBS                       0.797                  0.188  \n",
       "CNN                       0.857                  0.067  \n",
       "FoxNews                   0.815                  0.073  \n",
       "nytimes                   0.863                  0.065  "
      ]
     },
     "execution_count": 26,
     "metadata": {},
     "output_type": "execute_result"
    }
   ],
   "source": [
    "analys_df.to_csv(\"media_sentiment.csv\")\n",
    "analys_df.head()"
   ]
  },
  {
   "cell_type": "code",
   "execution_count": 27,
   "metadata": {},
   "outputs": [
    {
     "data": {
      "text/html": [
       "<div>\n",
       "<style scoped>\n",
       "    .dataframe tbody tr th:only-of-type {\n",
       "        vertical-align: middle;\n",
       "    }\n",
       "\n",
       "    .dataframe tbody tr th {\n",
       "        vertical-align: top;\n",
       "    }\n",
       "\n",
       "    .dataframe thead th {\n",
       "        text-align: right;\n",
       "    }\n",
       "</style>\n",
       "<table border=\"1\" class=\"dataframe\">\n",
       "  <thead>\n",
       "    <tr style=\"text-align: right;\">\n",
       "      <th></th>\n",
       "      <th>Compound Scores</th>\n",
       "      <th>Negative Scores</th>\n",
       "      <th>Neutral Scores</th>\n",
       "      <th>Postive Scores</th>\n",
       "    </tr>\n",
       "    <tr>\n",
       "      <th>Username</th>\n",
       "      <th></th>\n",
       "      <th></th>\n",
       "      <th></th>\n",
       "      <th></th>\n",
       "    </tr>\n",
       "  </thead>\n",
       "  <tbody>\n",
       "    <tr>\n",
       "      <th>BBCWorld</th>\n",
       "      <td>[-0.2023, 0.2732, -0.8709, 0.0, -0.3182, 0.0, ...</td>\n",
       "      <td>[0.212, 0.0, 0.559, 0.0, 0.223, 0.0, 0.0, 0.30...</td>\n",
       "      <td>[0.625, 0.741, 0.441, 1.0, 0.777, 1.0, 0.637, ...</td>\n",
       "      <td>[0.163, 0.259, 0.0, 0.0, 0.0, 0.0, 0.363, 0.0,...</td>\n",
       "    </tr>\n",
       "    <tr>\n",
       "      <th>CBS</th>\n",
       "      <td>[0.5574, 0.1867, 0.4199, 0.4926, 0.3555, 0.0, ...</td>\n",
       "      <td>[0.0, 0.0, 0.0, 0.0, 0.136, 0.0, 0.0, 0.0, 0.0...</td>\n",
       "      <td>[0.796, 0.902, 0.811, 0.758, 0.642, 1.0, 1.0, ...</td>\n",
       "      <td>[0.204, 0.098, 0.189, 0.242, 0.222, 0.0, 0.0, ...</td>\n",
       "    </tr>\n",
       "    <tr>\n",
       "      <th>CNN</th>\n",
       "      <td>[-0.765, -0.4588, 0.0, -0.4939, 0.0, 0.4019, -...</td>\n",
       "      <td>[0.375, 0.13, 0.0, 0.242, 0.0, 0.0, 0.22, 0.21...</td>\n",
       "      <td>[0.625, 0.87, 1.0, 0.758, 1.0, 0.69, 0.78, 0.7...</td>\n",
       "      <td>[0.0, 0.0, 0.0, 0.0, 0.0, 0.31, 0.0, 0.0, 0.0,...</td>\n",
       "    </tr>\n",
       "    <tr>\n",
       "      <th>FoxNews</th>\n",
       "      <td>[0.6249, -0.5994, -0.6908, 0.4019, 0.5499, 0.5...</td>\n",
       "      <td>[0.0, 0.302, 0.289, 0.0, 0.0, 0.0, 0.0, 0.543,...</td>\n",
       "      <td>[0.797, 0.698, 0.711, 0.847, 0.827, 0.852, 0.6...</td>\n",
       "      <td>[0.203, 0.0, 0.0, 0.153, 0.173, 0.148, 0.302, ...</td>\n",
       "    </tr>\n",
       "    <tr>\n",
       "      <th>nytimes</th>\n",
       "      <td>[0.7579, -0.7184, -0.3612, 0.0, 0.0258, 0.4215...</td>\n",
       "      <td>[0.0, 0.25, 0.179, 0.0, 0.0, 0.0, 0.22, 0.13, ...</td>\n",
       "      <td>[0.764, 0.75, 0.821, 1.0, 0.939, 0.741, 0.679,...</td>\n",
       "      <td>[0.236, 0.0, 0.0, 0.0, 0.061, 0.259, 0.102, 0....</td>\n",
       "    </tr>\n",
       "  </tbody>\n",
       "</table>\n",
       "</div>"
      ],
      "text/plain": [
       "                                            Compound Scores  \\\n",
       "Username                                                      \n",
       "BBCWorld  [-0.2023, 0.2732, -0.8709, 0.0, -0.3182, 0.0, ...   \n",
       "CBS       [0.5574, 0.1867, 0.4199, 0.4926, 0.3555, 0.0, ...   \n",
       "CNN       [-0.765, -0.4588, 0.0, -0.4939, 0.0, 0.4019, -...   \n",
       "FoxNews   [0.6249, -0.5994, -0.6908, 0.4019, 0.5499, 0.5...   \n",
       "nytimes   [0.7579, -0.7184, -0.3612, 0.0, 0.0258, 0.4215...   \n",
       "\n",
       "                                            Negative Scores  \\\n",
       "Username                                                      \n",
       "BBCWorld  [0.212, 0.0, 0.559, 0.0, 0.223, 0.0, 0.0, 0.30...   \n",
       "CBS       [0.0, 0.0, 0.0, 0.0, 0.136, 0.0, 0.0, 0.0, 0.0...   \n",
       "CNN       [0.375, 0.13, 0.0, 0.242, 0.0, 0.0, 0.22, 0.21...   \n",
       "FoxNews   [0.0, 0.302, 0.289, 0.0, 0.0, 0.0, 0.0, 0.543,...   \n",
       "nytimes   [0.0, 0.25, 0.179, 0.0, 0.0, 0.0, 0.22, 0.13, ...   \n",
       "\n",
       "                                             Neutral Scores  \\\n",
       "Username                                                      \n",
       "BBCWorld  [0.625, 0.741, 0.441, 1.0, 0.777, 1.0, 0.637, ...   \n",
       "CBS       [0.796, 0.902, 0.811, 0.758, 0.642, 1.0, 1.0, ...   \n",
       "CNN       [0.625, 0.87, 1.0, 0.758, 1.0, 0.69, 0.78, 0.7...   \n",
       "FoxNews   [0.797, 0.698, 0.711, 0.847, 0.827, 0.852, 0.6...   \n",
       "nytimes   [0.764, 0.75, 0.821, 1.0, 0.939, 0.741, 0.679,...   \n",
       "\n",
       "                                             Postive Scores  \n",
       "Username                                                     \n",
       "BBCWorld  [0.163, 0.259, 0.0, 0.0, 0.0, 0.0, 0.363, 0.0,...  \n",
       "CBS       [0.204, 0.098, 0.189, 0.242, 0.222, 0.0, 0.0, ...  \n",
       "CNN       [0.0, 0.0, 0.0, 0.0, 0.0, 0.31, 0.0, 0.0, 0.0,...  \n",
       "FoxNews   [0.203, 0.0, 0.0, 0.153, 0.173, 0.148, 0.302, ...  \n",
       "nytimes   [0.236, 0.0, 0.0, 0.0, 0.061, 0.259, 0.102, 0....  "
      ]
     },
     "execution_count": 27,
     "metadata": {},
     "output_type": "execute_result"
    }
   ],
   "source": [
    "scores_df.head()"
   ]
  },
  {
   "cell_type": "code",
   "execution_count": 28,
   "metadata": {},
   "outputs": [
    {
     "data": {
      "text/plain": [
       "100"
      ]
     },
     "execution_count": 28,
     "metadata": {},
     "output_type": "execute_result"
    }
   ],
   "source": [
    "# now i have two data frame. first shows average score, second shows the last 100 tweets scores.\n",
    "len(scores_df.loc[\"CNN\"][\"Compound Scores\"])"
   ]
  },
  {
   "cell_type": "code",
   "execution_count": 29,
   "metadata": {},
   "outputs": [
    {
     "name": "stdout",
     "output_type": "stream",
     "text": [
      "2018-06-26\n"
     ]
    }
   ],
   "source": [
    "date = datetime.datetime.today().strftime('%Y-%m-%d')\n",
    "print(date)"
   ]
  },
  {
   "cell_type": "code",
   "execution_count": 30,
   "metadata": {},
   "outputs": [
    {
     "data": {
      "image/png": "[encoded data removed]",
      "text/plain": [
       "<matplotlib.figure.Figure at 0x1a186a4390>"
      ]
     },
     "metadata": {},
     "output_type": "display_data"
    }
   ],
   "source": [
    "\n",
    "plt.scatter(range(len(scores_df.loc[\"BBCWorld\"][\"Compound Scores\"])), (scores_df.loc[\"BBCWorld\"][\"Compound Scores\"]), color='skyblue', marker='o')\n",
    "plt.scatter(range(len(scores_df.loc[\"CBS\"][\"Compound Scores\"])), (scores_df.loc[\"CBS\"][\"Compound Scores\"]), color='green', marker='o')\n",
    "plt.scatter(range(len(scores_df.loc[\"CNN\"][\"Compound Scores\"])), (scores_df.loc[\"CNN\"][\"Compound Scores\"]), color='red', marker='o')\n",
    "plt.scatter(range(len(scores_df.loc[\"FoxNews\"][\"Compound Scores\"])), (scores_df.loc[\"FoxNews\"][\"Compound Scores\"]), color='blue', marker='o')\n",
    "plt.scatter(range(len(scores_df.loc[\"nytimes\"][\"Compound Scores\"])), (scores_df.loc[\"nytimes\"][\"Compound Scores\"]), color='yellow', marker='o')\n",
    "plt.title(f\"Sentimental Analysis of Media Tweets {date}\")\n",
    "plt.xlabel('Tweet Ago')\n",
    "plt.ylabel('Tweet Polarity')\n",
    "plt.xlim()\n",
    "plt.grid()\n",
    "plt.savefig('overall_sentiment_analysis.png')"
   ]
  },
  {
   "cell_type": "code",
   "execution_count": 31,
   "metadata": {},
   "outputs": [
    {
     "data": {
      "image/png": "[encoded data removed]",
      "text/plain": [
       "<matplotlib.figure.Figure at 0x1a182662b0>"
      ]
     },
     "metadata": {},
     "output_type": "display_data"
    }
   ],
   "source": [
    "colors = ['skyblue', 'green', 'red', 'blue', 'yellow']\n",
    "plt.bar(analys_df_for_chart['Username'], analys_df_for_chart['Average Compound Score'], color=colors)\n",
    "plt.title(f'Overall Media Sentiment based on Twitter {date}')\n",
    "plt.ylabel('Tweet Polarity')\n",
    "plt.ylim(-1, 1)\n",
    "plt.grid()\n",
    "plt.savefig('ave_sentiment_compound_scores.png')"
   ]
  },
  {
   "cell_type": "code",
   "execution_count": null,
   "metadata": {},
   "outputs": [],
   "source": []
  }
 ],
 "metadata": {
  "kernelspec": {
   "display_name": "Python 3",
   "language": "python",
   "name": "python3"
  },
  "language_info": {
   "codemirror_mode": {
    "name": "ipython",
    "version": 3
   },
   "file_extension": ".py",
   "mimetype": "text/x-python",
   "name": "python",
   "nbconvert_exporter": "python",
   "pygments_lexer": "ipython3",
   "version": "3.6.4"
  }
 },
 "nbformat": 4,
 "nbformat_minor": 2
}
